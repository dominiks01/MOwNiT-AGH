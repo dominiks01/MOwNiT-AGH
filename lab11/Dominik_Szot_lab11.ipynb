{
 "cells": [
  {
   "attachments": {},
   "cell_type": "markdown",
   "metadata": {},
   "source": [
    "## Dominik Szot <br> Laboratorium 11 <br> Optymalizacja"
   ]
  },
  {
   "cell_type": "code",
   "execution_count": 1,
   "metadata": {},
   "outputs": [],
   "source": [
    "import pandas as pd\n",
    "import numpy as np\n",
    "import scipy.linalg as scp\n",
    "import scipy.integrate as integrate\n",
    "import matplotlib.ticker\n",
    "import sympy"
   ]
  },
  {
   "attachments": {},
   "cell_type": "markdown",
   "metadata": {},
   "source": [
    "# Zadanie 1. \n",
    "#### Wyznacz punkty krytyczne każdej z poniższych funkcji. Scharakteryzuj każdy znaleziony punkt jako minimum, maksimum lub punkt siodłowy. Dla każdej funkcji zbadaj, czy posiada minimum globalne lub maksimum globalne na zbiorze $ R^2 $\n",
    "\n",
    "$$f_1(x,y)=x^2-4xy+y^2$$\n",
    "$$f_2(x,y)=x^4-4xy+y^4$$\n",
    "$$f_3(x,y)=2x^3-3x^2-6xy(x-y-1)$$\n",
    "$$f_4(x,y)=(x-y)^4+x^2-y^2-2x+2y+1$$"
   ]
  },
  {
   "cell_type": "code",
   "execution_count": 19,
   "metadata": {},
   "outputs": [],
   "source": [
    "f_1 = lambda x, y : x**2 - 4*x*y + y**2\n",
    "f_2 = lambda x, y : x**4 - 4*x*y + y**4\n",
    "f_3 = lambda x, y : 2*x**3 - 3*x**2 - 6*x*y(x-y-1)\n",
    "f_4 = lambda x, y : (x - y)**4 + x*2 - y*2 - 2*x + 2*y + 1\n",
    "\n",
    "x = sympy.symbols('x')\n",
    "y = sympy.symbols('y')\n",
    "l = sympy.symbols('l')"
   ]
  },
  {
   "cell_type": "code",
   "execution_count": 6,
   "metadata": {},
   "outputs": [
    {
     "name": "stdout",
     "output_type": "stream",
     "text": [
      "df/dx = 2*x - 4*y\n",
      "df/dy = -4*x + 2*y\n"
     ]
    }
   ],
   "source": [
    "# Funkcja f(x,y) = x^2 - 4xy + y**2\n",
    "\n",
    "# Obliczamy pochodne cząstkowe:\n",
    "df_1_x = sympy.diff(f_1(x,y), x)\n",
    "df_1_y = sympy.diff(f_1(x,y), y)\n",
    "\n",
    "print(f\"df/dx = {df_1_x}\")\n",
    "print(f\"df/dy = {df_1_y}\")"
   ]
  },
  {
   "cell_type": "code",
   "execution_count": 12,
   "metadata": {},
   "outputs": [
    {
     "name": "stdout",
     "output_type": "stream",
     "text": [
      "{x: 0, y: 0}\n"
     ]
    }
   ],
   "source": [
    "''' \n",
    "Równania dla pochodnych cząstkowych równe zeru dla: \n",
    "2x - 4y = 0\n",
    "2y - 4x = 0\n",
    "'''\n",
    "\n",
    "# Rozwiązując powyższe równania otrzymujemy wyniki:\n",
    "print(sympy.solve([df_1_x, df_1_y], [x, y]))"
   ]
  },
  {
   "attachments": {},
   "cell_type": "markdown",
   "metadata": {},
   "source": [
    " Oznacza to że jedynym punktem krytycznym funkcji jest (0, 0)"
   ]
  },
  {
   "cell_type": "code",
   "execution_count": 14,
   "metadata": {},
   "outputs": [
    {
     "name": "stdout",
     "output_type": "stream",
     "text": [
      "d^2f/dx^2 = 2\n",
      "d^2f/dy^2 = 2\n",
      "d^2f/dxdy = -4\n",
      "d^2f/dydx = -4\n"
     ]
    }
   ],
   "source": [
    "# Obliczamy drugie pochodne cząstkowe:\n",
    "df_1_xx = sympy.diff(f_1(x,y), x,x)\n",
    "df_1_yy = sympy.diff(f_1(x,y), y,y)\n",
    "df_1_xy = sympy.diff(f_1(x,y), y,x)\n",
    "df_1_yx = sympy.diff(f_1(x,y), y,x)\n",
    "\n",
    "print(f\"d^2f/dx^2 = {df_1_xx}\")\n",
    "print(f\"d^2f/dy^2 = {df_1_yy}\")\n",
    "print(f\"d^2f/dxdy = {df_1_xy}\")\n",
    "print(f\"d^2f/dydx = {df_1_yx}\")"
   ]
  },
  {
   "attachments": {},
   "cell_type": "markdown",
   "metadata": {},
   "source": [
    "Wyznaczamy więc macierz hesjanową:\n",
    "$$ \n",
    "    H_f(0,0) = \n",
    "\n",
    "    \\begin{bmatrix}\n",
    "    \\frac{\\partial ^2 f }{\\partial x^2}(0,0) & \\frac{\\partial ^2 f }{\\partial y \\partial x}(0,0) \\\\\n",
    "    \\frac{\\partial ^2 f }{\\partial x  \\partial y }(0,0) & \\frac{\\partial ^2 f }{\\partial y^2}(0,0)\n",
    "    \\end{bmatrix} = \n",
    "\n",
    "    \\begin{bmatrix}\n",
    "    2 & -4\\\\\n",
    "    -4 & 2\n",
    "    \\end{bmatrix}\n",
    "$$"
   ]
  },
  {
   "attachments": {},
   "cell_type": "markdown",
   "metadata": {},
   "source": [
    "Obliczam następnie wartości własne macierzy Hessego. \n",
    "\n",
    "$$ \n",
    "    det(H_f(0,0) - \\lambda I) = \n",
    "\n",
    "    \\begin{vmatrix}\n",
    "    \\ 2 - \\lambda  & -4 \\\\\n",
    "    -4 & 2 - \\lambda\n",
    "    \\end{vmatrix}\n",
    "$$"
   ]
  },
  {
   "cell_type": "code",
   "execution_count": 26,
   "metadata": {},
   "outputs": [
    {
     "name": "stdout",
     "output_type": "stream",
     "text": [
      "det(H_f(0,0) - l) = l**2 - 4*l - 12\n",
      "Wartości własne macierzy Hessego dla punktu (0,0) wynoszą: [-2, 6]\n"
     ]
    }
   ],
   "source": [
    "determinant = sympy.Matrix([[2 - l, -4], [-4, 2-l]]).det()\n",
    "print(f\"det(H_f(0,0) - l) = {determinant}\")\n",
    "\n",
    "print(f\"Wartości własne macierzy Hessego dla punktu (0,0) wynoszą: {sympy.solve(determinant, l)}\")"
   ]
  },
  {
   "attachments": {},
   "cell_type": "markdown",
   "metadata": {},
   "source": [
    "Z tego wynika że (0,0) jest punktem siodłowym funkcji."
   ]
  }
 ],
 "metadata": {
  "kernelspec": {
   "display_name": "Python 3",
   "language": "python",
   "name": "python3"
  },
  "language_info": {
   "codemirror_mode": {
    "name": "ipython",
    "version": 3
   },
   "file_extension": ".py",
   "mimetype": "text/x-python",
   "name": "python",
   "nbconvert_exporter": "python",
   "pygments_lexer": "ipython3",
   "version": "3.10.11"
  },
  "orig_nbformat": 4
 },
 "nbformat": 4,
 "nbformat_minor": 2
}
