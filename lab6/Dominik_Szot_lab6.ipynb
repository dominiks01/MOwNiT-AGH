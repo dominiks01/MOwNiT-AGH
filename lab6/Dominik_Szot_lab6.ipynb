{
 "cells": [
  {
   "attachments": {},
   "cell_type": "markdown",
   "metadata": {},
   "source": [
    "# Dominik Szot, 20.04.2023\n",
    "# Laboratorium 06\n",
    "# Kwadratury"
   ]
  },
  {
   "attachments": {},
   "cell_type": "markdown",
   "metadata": {},
   "source": [
    "# Zadanie 1"
   ]
  },
  {
   "cell_type": "code",
   "execution_count": 1,
   "metadata": {},
   "outputs": [],
   "source": [
    "import pandas as pd\n",
    "import matplotlib.pyplot as plt\n",
    "import numpy as np\n",
    "import scipy.linalg as scp\n",
    "import scipy.integrate as integrate"
   ]
  },
  {
   "cell_type": "code",
   "execution_count": 2,
   "metadata": {},
   "outputs": [],
   "source": [
    "f_x = lambda x : 4./(1 + x**2)"
   ]
  },
  {
   "cell_type": "code",
   "execution_count": 8,
   "metadata": {},
   "outputs": [],
   "source": [
    "def rectangular_method(nodes, values) -> None:\n",
    "    accumulated = 0.\n",
    "\n",
    "    for i in range(1, len(nodes)):\n",
    "        accumulated += (nodes[i] - nodes[i-1])*values[i]\n",
    "    \n",
    "    return accumulated\n"
   ]
  },
  {
   "cell_type": "code",
   "execution_count": 12,
   "metadata": {},
   "outputs": [
    {
     "name": "stdout",
     "output_type": "stream",
     "text": [
      "m   K. Prostokątów  K. Trapezów  K. Simpsona\n",
      "1         2.600000     3.100000     3.133333\n",
      "2         2.881176     3.131176     3.141569\n",
      "3         3.013988     3.138988     3.141593\n",
      "4         3.078442     3.140942     3.141593\n",
      "5         3.110180     3.141430     3.141593\n",
      "6         3.125927     3.141552     3.141593\n",
      "7         3.133770     3.141582     3.141593\n",
      "8         3.137684     3.141590     3.141593\n",
      "9         3.139639     3.141592     3.141593\n",
      "10        3.140616     3.141592     3.141593\n",
      "11        3.141104     3.141593     3.141593\n",
      "12        3.141349     3.141593     3.141593\n",
      "13        3.141471     3.141593     3.141593\n",
      "14        3.141532     3.141593     3.141593\n",
      "15        3.141562     3.141593     3.141593\n",
      "16        3.141577     3.141593     3.141593\n",
      "17        3.141585     3.141593     3.141593\n",
      "18        3.141589     3.141593     3.141593\n",
      "19        3.141591     3.141593     3.141593\n",
      "20        3.141592     3.141593     3.141593\n",
      "21        3.141592     3.141593     3.141593\n",
      "22        3.141592     3.141593     3.141593\n",
      "23        3.141593     3.141593     3.141593\n",
      "24        3.141593     3.141593     3.141593\n",
      "25        3.141593     3.141593     3.141593\n"
     ]
    }
   ],
   "source": [
    "m = 26\n",
    "\n",
    "a = 0\n",
    "b = 1\n",
    "\n",
    "df2 = pd.DataFrame(data=[], index=None, columns=[\"K. Prostokątów\", \"K. Trapezów\", \"K. Simpsona\"])\n",
    "\n",
    "for i in range(1, m):\n",
    "    no_nodes = 2**i + 1\n",
    "    quadrature_nodes = np.array([a + i * (b-a)/(no_nodes-1) for i in range(no_nodes)])\n",
    "    quadrature_points = [f_x(i) for i in quadrature_nodes]\n",
    "\n",
    "    result_trapz = integrate.trapz(quadrature_points, quadrature_nodes, 1)\n",
    "    result_simps = integrate.simps(quadrature_points, quadrature_nodes, 1)\n",
    "    result_rectangle = rectangular_method(quadrature_nodes, quadrature_points);\n",
    "\n",
    "    df2.loc[len(df2)] = [result_rectangle, result_trapz, result_simps]\n",
    "\n",
    "df2 = df2.rename_axis('m', axis=1)\n",
    "df2.index += 1\n",
    "print(df2)"
   ]
  },
  {
   "cell_type": "code",
   "execution_count": 40,
   "metadata": {},
   "outputs": [
    {
     "name": "stdout",
     "output_type": "stream",
     "text": [
      "[[0.75854899 0.75854953 0.75854956]\n",
      " [0.75854929 0.75854956 0.75854957]\n",
      " [0.75854943 0.75854957 0.75854957]\n",
      " [0.7585495  0.75854957 0.75854957]\n",
      " [0.75854954 0.75854957 0.75854957]\n",
      " [0.75854955 0.75854957 0.75854957]\n",
      " [0.75854956 0.75854957 0.75854957]\n",
      " [0.75854957 0.75854957 0.75854957]\n",
      " [0.75854957 0.75854957 0.75854957]\n",
      " [0.75854957 0.75854957 0.75854957]\n",
      " [0.75854957 0.75854957 0.75854957]\n",
      " [0.75854957 0.75854957 0.75854957]\n",
      " [0.75854957 0.75854957 0.75854957]\n",
      " [0.75854957 0.75854957 0.75854957]\n",
      " [0.75854957 0.75854957 0.75854957]\n",
      " [0.75854957 0.75854957 0.75854957]\n",
      " [0.75854957 0.75854957 0.75854957]\n",
      " [0.75854957 0.75854957 0.75854957]\n",
      " [0.75854957 0.75854957 0.75854957]\n",
      " [0.75854957 0.75854957 0.75854957]\n",
      " [0.75854957 0.75854957 0.75854957]\n",
      " [0.75854957 0.75854957 0.75854957]\n",
      " [0.75854957 0.75854957 0.75854957]\n",
      " [0.75854957 0.75854957 0.75854957]\n",
      " [1.11339852 1.11339852 6.63943727]]\n"
     ]
    }
   ],
   "source": [
    "errors = df2.to_numpy()\n",
    "for i in range(len(errors)):\n",
    "    for j in range(len(errors[i])):\n",
    "        errors[i][j] = np.abs((np.pi - errors[i][j])/np.pi)\n",
    "\n",
    "print(errors)\n"
   ]
  }
 ],
 "metadata": {
  "kernelspec": {
   "display_name": "base",
   "language": "python",
   "name": "python3"
  },
  "language_info": {
   "codemirror_mode": {
    "name": "ipython",
    "version": 3
   },
   "file_extension": ".py",
   "mimetype": "text/x-python",
   "name": "python",
   "nbconvert_exporter": "python",
   "pygments_lexer": "ipython3",
   "version": "3.10.9"
  },
  "orig_nbformat": 4
 },
 "nbformat": 4,
 "nbformat_minor": 2
}
